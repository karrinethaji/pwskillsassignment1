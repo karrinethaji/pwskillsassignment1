{
 "cells": [
  {
   "cell_type": "markdown",
   "id": "d40c1394",
   "metadata": {},
   "source": [
    "## PW Skills Assignment On Basics Of Python "
   ]
  },
  {
   "cell_type": "markdown",
   "id": "594db53c",
   "metadata": {},
   "source": [
    "###### Q1. Create one variable containing following type of data:\n",
    "1. string\n",
    "2. list\n",
    "3. float\n",
    "4. tuple"
   ]
  },
  {
   "cell_type": "code",
   "execution_count": 1,
   "id": "1158d8a4",
   "metadata": {},
   "outputs": [
    {
     "name": "stdout",
     "output_type": "stream",
     "text": [
      "Data type of variable a is: <class 'int'>\n",
      "Data type of variable b is: <class 'str'>\n",
      "Data type of variable c is: <class 'float'>\n",
      "Data type of variable d is:<class 'complex'>\n",
      "Data type of variable e is: <class 'bool'>\n",
      "Data type of variable f is: <class 'list'>\n",
      "Data type of variable g is: <class 'tuple'>\n",
      "Data type of variable h is: <class 'int'>\n"
     ]
    }
   ],
   "source": [
    "# Let's create a variable having datatype 'int','string','float','complex','boolean'\n",
    "\n",
    "a=23 # variable 'a' holding integer data\n",
    "print(\"Data type of variable a is:\", type(a)) # printing type of data \n",
    "b= \"Nethaji\"\n",
    "print(\"Data type of variable b is:\",type(b))\n",
    "c=2.34\n",
    "print(\"Data type of variable c is:\",type(c))\n",
    "d=3+2j\n",
    "print(f\"Data type of variable d is:{type(d)}\")\n",
    "e=True\n",
    "print(f\"Data type of variable e is: {type(e)}\")\n",
    "f=list([11,22,33,\"Nethaji\",4+3j,True]) # or f=[11,22,33,\"Nethaji\",4+3j,True]\n",
    "print(f\"Data type of variable f is: {type(f)}\")\n",
    "g=(1,7,9) # or g=(9,) but if you assign the data like g=(1) then python will take it as a interger data\n",
    "print(f\"Data type of variable g is: {type(g)}\")\n",
    "h=(34)\n",
    "print(f\"Data type of variable h is: {type(h)}\")"
   ]
  },
  {
   "cell_type": "markdown",
   "id": "f3dc6bcb",
   "metadata": {},
   "source": [
    "#### Q2. Given are some following variables containing data:\n",
    "1. var1 = ‘ ‘\n",
    "2. var2 = ‘[ DS , ML , Python]’\n",
    "3. var3 = [ ‘DS’ , ’ML’ , ‘Python’ ]\n",
    "4. var4 = 1.\n",
    "\n",
    "#### What will be the data type of the above given variable."
   ]
  },
  {
   "cell_type": "code",
   "execution_count": 2,
   "id": "38f71ec7",
   "metadata": {},
   "outputs": [
    {
     "name": "stdout",
     "output_type": "stream",
     "text": [
      "Datatype of var1 is: <class 'str'>\n",
      "Datatype of var2 is: <class 'str'>\n",
      "Datatype of var3 is: <class 'list'>\n",
      "Datatype of var4 is: <class 'int'>\n"
     ]
    }
   ],
   "source": [
    "# we can use the inbuilt function type() to find the data type of variable \n",
    "var1=''\n",
    "print(f\"Datatype of var1 is: {type(var1)}\")\n",
    "var2 = '[ DS , ML , Python]'\n",
    "print(f\"Datatype of var2 is: {type(var2)}\")\n",
    "var3 =  [ 'DS' , 'ML' , 'Python' ]\n",
    "print(f\"Datatype of var3 is: {type(var3)}\")\n",
    "var4 =  1\n",
    "print(f\"Datatype of var4 is: {type(var4)}\")"
   ]
  },
  {
   "cell_type": "markdown",
   "id": "516ae733",
   "metadata": {},
   "source": [
    "#### Q3. Explain the use of the following operators using an example:\n",
    "1. /\n",
    "2. %\n",
    "3. //\n",
    "4. **"
   ]
  },
  {
   "cell_type": "code",
   "execution_count": 3,
   "id": "48b14758",
   "metadata": {},
   "outputs": [
    {
     "name": "stdout",
     "output_type": "stream",
     "text": [
      "2.4\n",
      "2\n",
      "1\n",
      "25\n"
     ]
    }
   ],
   "source": [
    "# '/' represents division operator which provides the exact quotient value \n",
    "a=12/5\n",
    "print(a) # provides 2.4 (provided along with float value if there is any)\n",
    "# '//' it is like integer quotient value ( without floating points)\n",
    "b=12//5 # it will eliminate the .4 from above output\n",
    "print(b)\n",
    "# '%'' (mod) provide the value of remainder \n",
    "c=21%5\n",
    "print(c)\n",
    "# \"**\" represents the power of the variable\n",
    "d=5**2 # it represents the 5 power 2 that equals 25\n",
    "print(d)"
   ]
  },
  {
   "cell_type": "markdown",
   "id": "a8fabe86",
   "metadata": {},
   "source": [
    "#### Q4. Create a list of length 10 of your choice containing multiple types of data. Using for loop print the element and its data type."
   ]
  },
  {
   "cell_type": "code",
   "execution_count": 4,
   "id": "a2901883",
   "metadata": {},
   "outputs": [
    {
     "name": "stdout",
     "output_type": "stream",
     "text": [
      "Element is 11 and datatype of 11 is <class 'int'>\n",
      "Element is 22 and datatype of 22 is <class 'int'>\n",
      "Element is 33 and datatype of 33 is <class 'int'>\n",
      "Element is Nethaji and datatype of Nethaji is <class 'str'>\n",
      "Element is (4+3j) and datatype of (4+3j) is <class 'complex'>\n",
      "Element is True and datatype of True is <class 'bool'>\n",
      "Element is 100 and datatype of 100 is <class 'int'>\n",
      "Element is Mahendra and datatype of Mahendra is <class 'str'>\n",
      "Element is 2.89 and datatype of 2.89 is <class 'float'>\n",
      "Element is (0, 3) and datatype of (0, 3) is <class 'tuple'>\n"
     ]
    }
   ],
   "source": [
    "l=[11,22,33,\"Nethaji\",4+3j,True,100,\"Mahendra\",2.89,(0,3)]\n",
    "for i in l:\n",
    "    print(f\"Element is {i} and datatype of {i} is {type(i)}\")"
   ]
  },
  {
   "cell_type": "markdown",
   "id": "b67be6a3",
   "metadata": {},
   "source": [
    "#### Q5. Using a while loop, verify if the number A is purely divisible by number B and if so then how many times it can be divisible."
   ]
  },
  {
   "cell_type": "code",
   "execution_count": 5,
   "id": "c276d022",
   "metadata": {},
   "outputs": [
    {
     "name": "stdout",
     "output_type": "stream",
     "text": [
      "200\n",
      "2\n",
      "A is divisible by B for 3 times\n"
     ]
    }
   ],
   "source": [
    "A=int(input())\n",
    "B=int(input())\n",
    "count=0\n",
    "while(A%B==0):\n",
    "    count+=1\n",
    "    A=A/B\n",
    "if count>0:\n",
    "    print(f\"A is divisible by B for {count} times\")\n",
    "else:\n",
    "    print(\"A is not divisible by B\")"
   ]
  },
  {
   "cell_type": "markdown",
   "id": "ddaac827",
   "metadata": {},
   "source": [
    "#### Q6. Create a list containing 25 int type data. Using for loop and if-else condition print if the element is divisible by 3 or not."
   ]
  },
  {
   "cell_type": "code",
   "execution_count": 6,
   "id": "5e89836c",
   "metadata": {},
   "outputs": [
    {
     "name": "stdout",
     "output_type": "stream",
     "text": [
      "Elements in l: [4, 5, 6, 7, 8, 9, 10, 11, 12, 13, 14, 15, 16, 17, 18, 19, 20, 21, 22, 23, 24, 25, 26, 27, 28]\n",
      "4 is not divisible by 3\n",
      "5 is not divisible by 3\n",
      "6 is divisible by 3\n",
      "7 is not divisible by 3\n",
      "8 is not divisible by 3\n",
      "9 is divisible by 3\n",
      "10 is not divisible by 3\n",
      "11 is not divisible by 3\n",
      "12 is divisible by 3\n",
      "13 is not divisible by 3\n",
      "14 is not divisible by 3\n",
      "15 is divisible by 3\n",
      "16 is not divisible by 3\n",
      "17 is not divisible by 3\n",
      "18 is divisible by 3\n",
      "19 is not divisible by 3\n",
      "20 is not divisible by 3\n",
      "21 is divisible by 3\n",
      "22 is not divisible by 3\n",
      "23 is not divisible by 3\n",
      "24 is divisible by 3\n",
      "25 is not divisible by 3\n",
      "26 is not divisible by 3\n",
      "27 is divisible by 3\n",
      "28 is not divisible by 3\n"
     ]
    }
   ],
   "source": [
    "l=list(range(4,29))\n",
    "print(\"Elements in l:\",l)\n",
    "for i in l:\n",
    "    if i%3==0:\n",
    "        print(f\"{i} is divisible by 3\")\n",
    "    else:\n",
    "        print(f\"{i} is not divisible by 3\")"
   ]
  },
  {
   "cell_type": "markdown",
   "id": "4e1b5ddc",
   "metadata": {},
   "source": [
    "#### Q7. What do you understand about mutable and immutable data types? Give examples for both showing this property."
   ]
  },
  {
   "cell_type": "code",
   "execution_count": 7,
   "id": "f64b9baa",
   "metadata": {},
   "outputs": [
    {
     "name": "stdout",
     "output_type": "stream",
     "text": [
      "Before modification of list: [1, 2, 3, 4, 5]\n",
      "After modification of list: [987, 2, 3, 4, 5, 100, 600]\n"
     ]
    },
    {
     "ename": "TypeError",
     "evalue": "'str' object does not support item assignment",
     "output_type": "error",
     "traceback": [
      "\u001b[1;31m---------------------------------------------------------------------------\u001b[0m",
      "\u001b[1;31mTypeError\u001b[0m                                 Traceback (most recent call last)",
      "\u001b[1;32m~\\AppData\\Local\\Temp\\ipykernel_9204\\2626555777.py\u001b[0m in \u001b[0;36m<module>\u001b[1;34m\u001b[0m\n\u001b[0;32m     16\u001b[0m \u001b[0mprint\u001b[0m\u001b[1;33m(\u001b[0m\u001b[1;34m\"After modification of list:\"\u001b[0m\u001b[1;33m,\u001b[0m\u001b[0ml\u001b[0m\u001b[1;33m)\u001b[0m\u001b[1;33m\u001b[0m\u001b[1;33m\u001b[0m\u001b[0m\n\u001b[0;32m     17\u001b[0m \u001b[0ms\u001b[0m\u001b[1;33m=\u001b[0m\u001b[1;34m\"Nethaji\"\u001b[0m\u001b[1;33m\u001b[0m\u001b[1;33m\u001b[0m\u001b[0m\n\u001b[1;32m---> 18\u001b[1;33m \u001b[0ms\u001b[0m\u001b[1;33m[\u001b[0m\u001b[1;36m0\u001b[0m\u001b[1;33m]\u001b[0m\u001b[1;33m=\u001b[0m\u001b[1;34m\"King\"\u001b[0m \u001b[1;31m## we will get the error while we trying to modify the string , so the strings are \"immutable\"\u001b[0m\u001b[1;33m\u001b[0m\u001b[1;33m\u001b[0m\u001b[0m\n\u001b[0m",
      "\u001b[1;31mTypeError\u001b[0m: 'str' object does not support item assignment"
     ]
    }
   ],
   "source": [
    "# mutable means we can modify the data within the container or variable and immutable in the sense we cannot modify the data of the variable \n",
    "\n",
    "'''\n",
    "The example for the mutable datatype is \"List\" and example for immutable data type is \"string\"\n",
    "\n",
    "In the List we can modify the elements like appending, insertion, removing the elements but in the string \n",
    "\n",
    "we are not able to perform the modification actions \n",
    "'''\n",
    "l=[1,2,3,4,5]\n",
    "print(\"Before modification of list:\", l)\n",
    "l.append(100)\n",
    "l.insert(6,600)\n",
    "l[0]=987\n",
    "## as list is mutable we can modify the list ( i have performed append and insertion action on above)\n",
    "print(\"After modification of list:\",l)\n",
    "s=\"Nethaji\"\n",
    "s[0]=\"King\" ## we will get the error while we trying to modify the string , so the strings are \"immutable\"\n"
   ]
  }
 ],
 "metadata": {
  "kernelspec": {
   "display_name": "Python 3 (ipykernel)",
   "language": "python",
   "name": "python3"
  },
  "language_info": {
   "codemirror_mode": {
    "name": "ipython",
    "version": 3
   },
   "file_extension": ".py",
   "mimetype": "text/x-python",
   "name": "python",
   "nbconvert_exporter": "python",
   "pygments_lexer": "ipython3",
   "version": "3.9.12"
  }
 },
 "nbformat": 4,
 "nbformat_minor": 5
}
